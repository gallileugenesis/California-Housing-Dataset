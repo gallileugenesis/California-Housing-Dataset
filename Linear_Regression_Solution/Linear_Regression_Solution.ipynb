{
 "cells": [
  {
   "cell_type": "markdown",
   "metadata": {},
   "source": [
    "# Linear Regression Solution\n",
    "\n",
    "Autor: Gallileu Genesis \n",
    "\n",
    " \n"
   ]
  },
  {
   "cell_type": "code",
   "execution_count": 1,
   "metadata": {
    "execution": {
     "iopub.execute_input": "2023-08-26T23:39:21.928280Z",
     "iopub.status.busy": "2023-08-26T23:39:21.927875Z",
     "iopub.status.idle": "2023-08-26T23:39:23.116567Z",
     "shell.execute_reply": "2023-08-26T23:39:23.115847Z",
     "shell.execute_reply.started": "2023-08-26T23:39:21.928240Z"
    }
   },
   "outputs": [],
   "source": [
    "import pandas as pd\n",
    "from pandas.api.types import is_string_dtype\n",
    "from pandas.api.types import is_numeric_dtype\n",
    "import numpy as np\n",
    "import matplotlib.pyplot as plt\n",
    "import plotly.express as px\n",
    "import seaborn as sns\n",
    "\n",
    "pd.set_option('display.max_columns', None)\n",
    "pd.set_option('display.max_rows', None)\n",
    "pd.set_option('display.float_format', '{:.2f}'.format)\n",
    "\n",
    "import warnings\n",
    "warnings.filterwarnings(\"ignore\")\n",
    " "
   ]
  },
  {
   "cell_type": "markdown",
   "metadata": {},
   "source": [
    "### Banco de dados"
   ]
  },
  {
   "cell_type": "markdown",
   "metadata": {},
   "source": [
    "O banco de dados de treinamento possui 37137 amostras (entradas/linhas), 8 colunas (features/recursos), além das colunas id e target."
   ]
  },
  {
   "cell_type": "code",
   "execution_count": 2,
   "metadata": {
    "scrolled": true
   },
   "outputs": [
    {
     "name": "stdout",
     "output_type": "stream",
     "text": [
      "(37137, 10)\n"
     ]
    },
    {
     "data": {
      "text/html": [
       "<div>\n",
       "<style scoped>\n",
       "    .dataframe tbody tr th:only-of-type {\n",
       "        vertical-align: middle;\n",
       "    }\n",
       "\n",
       "    .dataframe tbody tr th {\n",
       "        vertical-align: top;\n",
       "    }\n",
       "\n",
       "    .dataframe thead th {\n",
       "        text-align: right;\n",
       "    }\n",
       "</style>\n",
       "<table border=\"1\" class=\"dataframe\">\n",
       "  <thead>\n",
       "    <tr style=\"text-align: right;\">\n",
       "      <th></th>\n",
       "      <th>id</th>\n",
       "      <th>MedInc</th>\n",
       "      <th>HouseAge</th>\n",
       "      <th>AveRooms</th>\n",
       "      <th>AveBedrms</th>\n",
       "      <th>Population</th>\n",
       "      <th>AveOccup</th>\n",
       "      <th>Latitude</th>\n",
       "      <th>Longitude</th>\n",
       "      <th>MedHouseVal</th>\n",
       "    </tr>\n",
       "  </thead>\n",
       "  <tbody>\n",
       "    <tr>\n",
       "      <th>0</th>\n",
       "      <td>0</td>\n",
       "      <td>2.39</td>\n",
       "      <td>15.00</td>\n",
       "      <td>3.83</td>\n",
       "      <td>1.11</td>\n",
       "      <td>1280.00</td>\n",
       "      <td>2.49</td>\n",
       "      <td>34.60</td>\n",
       "      <td>-120.12</td>\n",
       "      <td>0.98</td>\n",
       "    </tr>\n",
       "    <tr>\n",
       "      <th>1</th>\n",
       "      <td>1</td>\n",
       "      <td>3.72</td>\n",
       "      <td>17.00</td>\n",
       "      <td>6.01</td>\n",
       "      <td>1.05</td>\n",
       "      <td>1504.00</td>\n",
       "      <td>3.81</td>\n",
       "      <td>38.69</td>\n",
       "      <td>-121.22</td>\n",
       "      <td>0.95</td>\n",
       "    </tr>\n",
       "    <tr>\n",
       "      <th>2</th>\n",
       "      <td>2</td>\n",
       "      <td>4.78</td>\n",
       "      <td>27.00</td>\n",
       "      <td>6.54</td>\n",
       "      <td>1.10</td>\n",
       "      <td>1061.00</td>\n",
       "      <td>2.46</td>\n",
       "      <td>34.71</td>\n",
       "      <td>-120.45</td>\n",
       "      <td>1.58</td>\n",
       "    </tr>\n",
       "    <tr>\n",
       "      <th>3</th>\n",
       "      <td>3</td>\n",
       "      <td>2.41</td>\n",
       "      <td>16.00</td>\n",
       "      <td>3.35</td>\n",
       "      <td>0.97</td>\n",
       "      <td>1255.00</td>\n",
       "      <td>2.09</td>\n",
       "      <td>32.66</td>\n",
       "      <td>-117.09</td>\n",
       "      <td>1.34</td>\n",
       "    </tr>\n",
       "    <tr>\n",
       "      <th>4</th>\n",
       "      <td>4</td>\n",
       "      <td>3.75</td>\n",
       "      <td>52.00</td>\n",
       "      <td>4.28</td>\n",
       "      <td>1.07</td>\n",
       "      <td>1793.00</td>\n",
       "      <td>1.60</td>\n",
       "      <td>37.80</td>\n",
       "      <td>-122.41</td>\n",
       "      <td>4.50</td>\n",
       "    </tr>\n",
       "  </tbody>\n",
       "</table>\n",
       "</div>"
      ],
      "text/plain": [
       "   id  MedInc  HouseAge  AveRooms  AveBedrms  Population  AveOccup  Latitude  \\\n",
       "0   0    2.39     15.00      3.83       1.11     1280.00      2.49     34.60   \n",
       "1   1    3.72     17.00      6.01       1.05     1504.00      3.81     38.69   \n",
       "2   2    4.78     27.00      6.54       1.10     1061.00      2.46     34.71   \n",
       "3   3    2.41     16.00      3.35       0.97     1255.00      2.09     32.66   \n",
       "4   4    3.75     52.00      4.28       1.07     1793.00      1.60     37.80   \n",
       "\n",
       "   Longitude  MedHouseVal  \n",
       "0    -120.12         0.98  \n",
       "1    -121.22         0.95  \n",
       "2    -120.45         1.58  \n",
       "3    -117.09         1.34  \n",
       "4    -122.41         4.50  "
      ]
     },
     "execution_count": 2,
     "metadata": {},
     "output_type": "execute_result"
    }
   ],
   "source": [
    "train = pd.read_csv(\"../Data/train.csv\")\n",
    "print(train.shape)\n",
    "train.head()"
   ]
  },
  {
   "cell_type": "markdown",
   "metadata": {},
   "source": [
    "O banco de dados de teste possui 24759 amostras (entradas/linhas), 8 colunas (features/recursos), além da coluna id."
   ]
  },
  {
   "cell_type": "code",
   "execution_count": 3,
   "metadata": {
    "scrolled": true
   },
   "outputs": [
    {
     "name": "stdout",
     "output_type": "stream",
     "text": [
      "(24759, 9)\n"
     ]
    },
    {
     "data": {
      "text/html": [
       "<div>\n",
       "<style scoped>\n",
       "    .dataframe tbody tr th:only-of-type {\n",
       "        vertical-align: middle;\n",
       "    }\n",
       "\n",
       "    .dataframe tbody tr th {\n",
       "        vertical-align: top;\n",
       "    }\n",
       "\n",
       "    .dataframe thead th {\n",
       "        text-align: right;\n",
       "    }\n",
       "</style>\n",
       "<table border=\"1\" class=\"dataframe\">\n",
       "  <thead>\n",
       "    <tr style=\"text-align: right;\">\n",
       "      <th></th>\n",
       "      <th>id</th>\n",
       "      <th>MedInc</th>\n",
       "      <th>HouseAge</th>\n",
       "      <th>AveRooms</th>\n",
       "      <th>AveBedrms</th>\n",
       "      <th>Population</th>\n",
       "      <th>AveOccup</th>\n",
       "      <th>Latitude</th>\n",
       "      <th>Longitude</th>\n",
       "    </tr>\n",
       "  </thead>\n",
       "  <tbody>\n",
       "    <tr>\n",
       "      <th>0</th>\n",
       "      <td>37137</td>\n",
       "      <td>1.71</td>\n",
       "      <td>35.00</td>\n",
       "      <td>4.97</td>\n",
       "      <td>1.10</td>\n",
       "      <td>1318.00</td>\n",
       "      <td>2.84</td>\n",
       "      <td>39.75</td>\n",
       "      <td>-121.85</td>\n",
       "    </tr>\n",
       "    <tr>\n",
       "      <th>1</th>\n",
       "      <td>37138</td>\n",
       "      <td>1.39</td>\n",
       "      <td>22.00</td>\n",
       "      <td>4.19</td>\n",
       "      <td>1.10</td>\n",
       "      <td>2296.00</td>\n",
       "      <td>3.18</td>\n",
       "      <td>33.95</td>\n",
       "      <td>-118.29</td>\n",
       "    </tr>\n",
       "    <tr>\n",
       "      <th>2</th>\n",
       "      <td>37139</td>\n",
       "      <td>7.72</td>\n",
       "      <td>21.00</td>\n",
       "      <td>7.13</td>\n",
       "      <td>0.96</td>\n",
       "      <td>1535.00</td>\n",
       "      <td>2.89</td>\n",
       "      <td>33.61</td>\n",
       "      <td>-117.81</td>\n",
       "    </tr>\n",
       "    <tr>\n",
       "      <th>3</th>\n",
       "      <td>37140</td>\n",
       "      <td>4.68</td>\n",
       "      <td>49.00</td>\n",
       "      <td>4.77</td>\n",
       "      <td>1.05</td>\n",
       "      <td>707.00</td>\n",
       "      <td>1.74</td>\n",
       "      <td>34.17</td>\n",
       "      <td>-118.34</td>\n",
       "    </tr>\n",
       "    <tr>\n",
       "      <th>4</th>\n",
       "      <td>37141</td>\n",
       "      <td>3.13</td>\n",
       "      <td>25.00</td>\n",
       "      <td>3.77</td>\n",
       "      <td>1.08</td>\n",
       "      <td>4716.00</td>\n",
       "      <td>2.00</td>\n",
       "      <td>34.17</td>\n",
       "      <td>-118.29</td>\n",
       "    </tr>\n",
       "  </tbody>\n",
       "</table>\n",
       "</div>"
      ],
      "text/plain": [
       "      id  MedInc  HouseAge  AveRooms  AveBedrms  Population  AveOccup  \\\n",
       "0  37137    1.71     35.00      4.97       1.10     1318.00      2.84   \n",
       "1  37138    1.39     22.00      4.19       1.10     2296.00      3.18   \n",
       "2  37139    7.72     21.00      7.13       0.96     1535.00      2.89   \n",
       "3  37140    4.68     49.00      4.77       1.05      707.00      1.74   \n",
       "4  37141    3.13     25.00      3.77       1.08     4716.00      2.00   \n",
       "\n",
       "   Latitude  Longitude  \n",
       "0     39.75    -121.85  \n",
       "1     33.95    -118.29  \n",
       "2     33.61    -117.81  \n",
       "3     34.17    -118.34  \n",
       "4     34.17    -118.29  "
      ]
     },
     "execution_count": 3,
     "metadata": {},
     "output_type": "execute_result"
    }
   ],
   "source": [
    "test = pd.read_csv(\"../Data/test.csv\")\n",
    "print(test.shape)\n",
    "test.head()"
   ]
  },
  {
   "cell_type": "markdown",
   "metadata": {},
   "source": [
    "#### Separar os dados para treinamento"
   ]
  },
  {
   "cell_type": "code",
   "execution_count": 4,
   "metadata": {},
   "outputs": [],
   "source": [
    "X = train.drop(['id', 'MedHouseVal'], axis=1)\n",
    "y = train['MedHouseVal']\n",
    "\n",
    "X_test = test.drop(['id'], axis=1)"
   ]
  },
  {
   "cell_type": "markdown",
   "metadata": {},
   "source": [
    "#### Definir alguns métodos"
   ]
  },
  {
   "cell_type": "code",
   "execution_count": 5,
   "metadata": {},
   "outputs": [],
   "source": [
    "def rmse(predictions, targets):\n",
    "    return np.sqrt(((predictions - targets) ** 2).mean())\n",
    "\n",
    "def CrossValidation(X, y, model, n_folds, seed):\n",
    "    scores =  []\n",
    "    k = KFold(n_splits=n_folds, random_state=seed, shuffle=True)\n",
    "    for fold, (train_idx, val_idx) in enumerate(k.split(X, y)):\n",
    "        print(f'\\n--- Fold {fold+1} ---')\n",
    "\n",
    "        x_train, y_train = X.iloc[train_idx], y.iloc[train_idx]\n",
    "        x_val, y_val = X.iloc[val_idx], y.iloc[val_idx]\n",
    "        predictor = model\n",
    "        %time predictor.fit(x_train, y_train)\n",
    "\n",
    "        val_preds = predictor.predict(x_val)\n",
    "        val_score = rmse(y_val, val_preds)\n",
    "        scores.append(val_score)\n",
    "\n",
    "        print(f'--- RMSE: {round(val_score, 6)} ---')\n",
    "\n",
    "        del x_train, y_train, x_val, y_val, val_preds, val_score, predictor\n",
    "        gc.collect()\n",
    "\n",
    "    print('*'*45)\n",
    "    print(f'Mean RMSE: {round(np.mean(scores), 6)}') \n",
    "    \n",
    "def plot_predictions(predictions, y):\n",
    "    plt.hist(predictions, label = 'Predictor', bins=50)\n",
    "    plt.hist(y, label = 'y train', bins=50)\n",
    "\n",
    "    plt.legend()\n",
    "    plt.show()"
   ]
  },
  {
   "cell_type": "code",
   "execution_count": 6,
   "metadata": {},
   "outputs": [],
   "source": [
    "from sklearn.linear_model import LinearRegression\n",
    "from sklearn.model_selection import KFold\n",
    "import gc"
   ]
  },
  {
   "cell_type": "code",
   "execution_count": 7,
   "metadata": {},
   "outputs": [],
   "source": [
    "seed = 42\n",
    "n_folds = 7"
   ]
  },
  {
   "cell_type": "markdown",
   "metadata": {},
   "source": [
    "#### Linear Regression 1"
   ]
  },
  {
   "cell_type": "code",
   "execution_count": 8,
   "metadata": {
    "scrolled": true
   },
   "outputs": [
    {
     "name": "stdout",
     "output_type": "stream",
     "text": [
      "\n",
      "--- Fold 1 ---\n",
      "CPU times: total: 0 ns\n",
      "Wall time: 4.99 ms\n",
      "--- RMSE: 0.752272 ---\n",
      "\n",
      "--- Fold 2 ---\n",
      "CPU times: total: 0 ns\n",
      "Wall time: 7.04 ms\n",
      "--- RMSE: 0.734615 ---\n",
      "\n",
      "--- Fold 3 ---\n",
      "CPU times: total: 0 ns\n",
      "Wall time: 6.98 ms\n",
      "--- RMSE: 2.006205 ---\n",
      "\n",
      "--- Fold 4 ---\n",
      "CPU times: total: 15.6 ms\n",
      "Wall time: 4.99 ms\n",
      "--- RMSE: 0.714229 ---\n",
      "\n",
      "--- Fold 5 ---\n",
      "CPU times: total: 0 ns\n",
      "Wall time: 7 ms\n",
      "--- RMSE: 0.727589 ---\n",
      "\n",
      "--- Fold 6 ---\n",
      "CPU times: total: 0 ns\n",
      "Wall time: 7.01 ms\n",
      "--- RMSE: 0.72938 ---\n",
      "\n",
      "--- Fold 7 ---\n",
      "CPU times: total: 0 ns\n",
      "Wall time: 5.95 ms\n",
      "--- RMSE: 0.712326 ---\n",
      "*********************************************\n",
      "Mean RMSE: 0.910945\n"
     ]
    }
   ],
   "source": [
    "lr_1 = LinearRegression()\n",
    "\n",
    "CrossValidation(X, y, lr_1, n_folds, seed)"
   ]
  },
  {
   "cell_type": "code",
   "execution_count": 9,
   "metadata": {},
   "outputs": [
    {
     "data": {
      "image/png": "[encoded data removed]",
      "text/plain": [
       "<Figure size 640x480 with 1 Axes>"
      ]
     },
     "metadata": {},
     "output_type": "display_data"
    }
   ],
   "source": [
    "lr_1.fit(X,y)\n",
    "predictions_1 = lr_1.predict(X_test)\n",
    "plot_predictions(predictions_1, y)"
   ]
  },
  {
   "cell_type": "markdown",
   "metadata": {},
   "source": [
    "#### Linear Regression 2"
   ]
  },
  {
   "cell_type": "code",
   "execution_count": 10,
   "metadata": {},
   "outputs": [],
   "source": [
    "from sklearn.preprocessing import StandardScaler\n",
    "from sklearn.pipeline import make_pipeline"
   ]
  },
  {
   "cell_type": "code",
   "execution_count": 11,
   "metadata": {
    "scrolled": true
   },
   "outputs": [
    {
     "name": "stdout",
     "output_type": "stream",
     "text": [
      "\n",
      "--- Fold 1 ---\n",
      "CPU times: total: 0 ns\n",
      "Wall time: 10 ms\n",
      "--- RMSE: 0.752272 ---\n",
      "\n",
      "--- Fold 2 ---\n",
      "CPU times: total: 15.6 ms\n",
      "Wall time: 11 ms\n",
      "--- RMSE: 0.734615 ---\n",
      "\n",
      "--- Fold 3 ---\n",
      "CPU times: total: 0 ns\n",
      "Wall time: 10 ms\n",
      "--- RMSE: 2.006205 ---\n",
      "\n",
      "--- Fold 4 ---\n",
      "CPU times: total: 0 ns\n",
      "Wall time: 8 ms\n",
      "--- RMSE: 0.714229 ---\n",
      "\n",
      "--- Fold 5 ---\n",
      "CPU times: total: 0 ns\n",
      "Wall time: 14 ms\n",
      "--- RMSE: 0.727589 ---\n",
      "\n",
      "--- Fold 6 ---\n",
      "CPU times: total: 15.6 ms\n",
      "Wall time: 15 ms\n",
      "--- RMSE: 0.72938 ---\n",
      "\n",
      "--- Fold 7 ---\n",
      "CPU times: total: 15.6 ms\n",
      "Wall time: 16 ms\n",
      "--- RMSE: 0.712326 ---\n",
      "*********************************************\n",
      "Mean RMSE: 0.910945\n"
     ]
    }
   ],
   "source": [
    "lr_2 = make_pipeline(StandardScaler(), LinearRegression())\n",
    "\n",
    "CrossValidation(X, y, lr_2, n_folds, seed)"
   ]
  },
  {
   "cell_type": "code",
   "execution_count": 12,
   "metadata": {},
   "outputs": [
    {
     "data": {
      "image/png": "[encoded data removed]",
      "text/plain": [
       "<Figure size 640x480 with 1 Axes>"
      ]
     },
     "metadata": {},
     "output_type": "display_data"
    }
   ],
   "source": [
    "lr_2.fit(X,y)\n",
    "predictions_2 = lr_2.predict(X_test)\n",
    "plot_predictions(predictions_2, y)"
   ]
  },
  {
   "cell_type": "markdown",
   "metadata": {},
   "source": [
    "#### Linear Regression 3"
   ]
  },
  {
   "cell_type": "code",
   "execution_count": 13,
   "metadata": {},
   "outputs": [],
   "source": [
    "X_prep = X[y<5]\n",
    "y_prep = y[y<5]"
   ]
  },
  {
   "cell_type": "code",
   "execution_count": 14,
   "metadata": {},
   "outputs": [
    {
     "data": {
      "image/png": "[encoded data removed]",
      "text/plain": [
       "<Figure size 640x480 with 1 Axes>"
      ]
     },
     "metadata": {},
     "output_type": "display_data"
    }
   ],
   "source": [
    "plt.hist(y_prep, bins=50)\n",
    "plt.show()"
   ]
  },
  {
   "cell_type": "code",
   "execution_count": 15,
   "metadata": {
    "scrolled": true
   },
   "outputs": [
    {
     "name": "stdout",
     "output_type": "stream",
     "text": [
      "\n",
      "--- Fold 1 ---\n",
      "CPU times: total: 0 ns\n",
      "Wall time: 9.01 ms\n",
      "--- RMSE: 0.628408 ---\n",
      "\n",
      "--- Fold 2 ---\n",
      "CPU times: total: 15.6 ms\n",
      "Wall time: 9.99 ms\n",
      "--- RMSE: 0.625267 ---\n",
      "\n",
      "--- Fold 3 ---\n",
      "CPU times: total: 15.6 ms\n",
      "Wall time: 9.99 ms\n",
      "--- RMSE: 1.513658 ---\n",
      "\n",
      "--- Fold 4 ---\n",
      "CPU times: total: 0 ns\n",
      "Wall time: 13 ms\n",
      "--- RMSE: 0.62651 ---\n",
      "\n",
      "--- Fold 5 ---\n",
      "CPU times: total: 15.6 ms\n",
      "Wall time: 13 ms\n",
      "--- RMSE: 0.627444 ---\n",
      "\n",
      "--- Fold 6 ---\n",
      "CPU times: total: 15.6 ms\n",
      "Wall time: 9.01 ms\n",
      "--- RMSE: 0.634432 ---\n",
      "\n",
      "--- Fold 7 ---\n",
      "CPU times: total: 0 ns\n",
      "Wall time: 8.52 ms\n",
      "--- RMSE: 0.627841 ---\n",
      "*********************************************\n",
      "Mean RMSE: 0.754794\n"
     ]
    }
   ],
   "source": [
    "lr_3 = make_pipeline(StandardScaler(), LinearRegression())\n",
    "\n",
    "CrossValidation(X_prep, y_prep, lr_3, n_folds, seed)"
   ]
  },
  {
   "cell_type": "code",
   "execution_count": 16,
   "metadata": {},
   "outputs": [
    {
     "data": {
      "image/png": "[encoded data removed]",
      "text/plain": [
       "<Figure size 640x480 with 1 Axes>"
      ]
     },
     "metadata": {},
     "output_type": "display_data"
    }
   ],
   "source": [
    "lr_3.fit(X_prep, y_prep)\n",
    "predictions_3 = lr_3.predict(X_test)\n",
    "plot_predictions(predictions_3, y_prep)"
   ]
  },
  {
   "cell_type": "markdown",
   "metadata": {},
   "source": [
    "#### Linear Regression 4"
   ]
  },
  {
   "cell_type": "code",
   "execution_count": 17,
   "metadata": {},
   "outputs": [],
   "source": [
    "y_prep_log = np.log(y_prep)"
   ]
  },
  {
   "cell_type": "code",
   "execution_count": 18,
   "metadata": {
    "scrolled": true
   },
   "outputs": [
    {
     "name": "stdout",
     "output_type": "stream",
     "text": [
      "\n",
      "--- Fold 1 ---\n",
      "CPU times: total: 0 ns\n",
      "Wall time: 11 ms\n",
      "--- RMSE: 0.329351 ---\n",
      "\n",
      "--- Fold 2 ---\n",
      "CPU times: total: 0 ns\n",
      "Wall time: 9 ms\n",
      "--- RMSE: 0.332 ---\n",
      "\n",
      "--- Fold 3 ---\n",
      "CPU times: total: 0 ns\n",
      "Wall time: 12 ms\n",
      "--- RMSE: 0.772235 ---\n",
      "\n",
      "--- Fold 4 ---\n",
      "CPU times: total: 0 ns\n",
      "Wall time: 9 ms\n",
      "--- RMSE: 0.330491 ---\n",
      "\n",
      "--- Fold 5 ---\n",
      "CPU times: total: 0 ns\n",
      "Wall time: 8.96 ms\n",
      "--- RMSE: 0.329339 ---\n",
      "\n",
      "--- Fold 6 ---\n",
      "CPU times: total: 0 ns\n",
      "Wall time: 10 ms\n",
      "--- RMSE: 0.337944 ---\n",
      "\n",
      "--- Fold 7 ---\n",
      "CPU times: total: 0 ns\n",
      "Wall time: 8.54 ms\n",
      "--- RMSE: 0.327718 ---\n",
      "*********************************************\n",
      "Mean RMSE: 0.394154\n"
     ]
    }
   ],
   "source": [
    "lr_4 = make_pipeline(StandardScaler(), LinearRegression())\n",
    "\n",
    "CrossValidation(X_prep, y_prep_log, lr_4, n_folds, seed)"
   ]
  },
  {
   "cell_type": "code",
   "execution_count": 19,
   "metadata": {},
   "outputs": [
    {
     "data": {
      "image/png": "[encoded data removed]",
      "text/plain": [
       "<Figure size 640x480 with 1 Axes>"
      ]
     },
     "metadata": {},
     "output_type": "display_data"
    }
   ],
   "source": [
    "lr_4.fit(X_prep, y_prep_log)\n",
    "predictions_4 = lr_4.predict(X_test)\n",
    "plot_predictions(predictions_4, y_prep_log)"
   ]
  },
  {
   "cell_type": "markdown",
   "metadata": {},
   "source": [
    "#### Linear Regression 5"
   ]
  },
  {
   "cell_type": "code",
   "execution_count": 20,
   "metadata": {},
   "outputs": [],
   "source": [
    "from sklearn.preprocessing import PolynomialFeatures\n",
    "from sklearn.preprocessing import FunctionTransformer\n",
    "from sklearn.pipeline import make_union"
   ]
  },
  {
   "cell_type": "code",
   "execution_count": 21,
   "metadata": {
    "scrolled": true
   },
   "outputs": [
    {
     "name": "stdout",
     "output_type": "stream",
     "text": [
      "\n",
      "--- Fold 1 ---\n",
      "CPU times: total: 0 ns\n",
      "Wall time: 11 ms\n",
      "--- RMSE: 0.329351 ---\n",
      "\n",
      "--- Fold 2 ---\n",
      "CPU times: total: 15.6 ms\n",
      "Wall time: 12 ms\n",
      "--- RMSE: 0.332 ---\n",
      "\n",
      "--- Fold 3 ---\n",
      "CPU times: total: 15.6 ms\n",
      "Wall time: 17 ms\n",
      "--- RMSE: 0.772235 ---\n",
      "\n",
      "--- Fold 4 ---\n",
      "CPU times: total: 0 ns\n",
      "Wall time: 14 ms\n",
      "--- RMSE: 0.330491 ---\n",
      "\n",
      "--- Fold 5 ---\n",
      "CPU times: total: 15.6 ms\n",
      "Wall time: 12 ms\n",
      "--- RMSE: 0.329339 ---\n",
      "\n",
      "--- Fold 6 ---\n",
      "CPU times: total: 15.6 ms\n",
      "Wall time: 17 ms\n",
      "--- RMSE: 0.337944 ---\n",
      "\n",
      "--- Fold 7 ---\n",
      "CPU times: total: 15.6 ms\n",
      "Wall time: 15.5 ms\n",
      "--- RMSE: 0.327718 ---\n",
      "*********************************************\n",
      "Mean RMSE: 0.394154\n"
     ]
    }
   ],
   "source": [
    "lr_5 = make_pipeline(StandardScaler(), \n",
    "                     make_union(\n",
    "                         FunctionTransformer(lambda x: x, validate=True),\n",
    "                     ),\n",
    "                     LinearRegression())\n",
    "\n",
    "CrossValidation(X_prep, y_prep_log, lr_5, n_folds, seed)"
   ]
  },
  {
   "cell_type": "code",
   "execution_count": 22,
   "metadata": {},
   "outputs": [
    {
     "data": {
      "image/png": "[encoded data removed]",
      "text/plain": [
       "<Figure size 640x480 with 1 Axes>"
      ]
     },
     "metadata": {},
     "output_type": "display_data"
    }
   ],
   "source": [
    "lr_5.fit(X_prep, y_prep_log)\n",
    "predictions_5 = lr_5.predict(X_test)\n",
    "plot_predictions(predictions_5, y_prep_log)"
   ]
  },
  {
   "cell_type": "markdown",
   "metadata": {},
   "source": [
    "#### Linear Regression 6"
   ]
  },
  {
   "cell_type": "code",
   "execution_count": 23,
   "metadata": {},
   "outputs": [],
   "source": [
    "def CrossValidation(X, y, X_test, model, n_folds, seed):\n",
    "    predictions, scores = np.zeros(len(test)), []\n",
    "    k = KFold(n_splits=n_folds, random_state=seed, shuffle=True)\n",
    "    for fold, (train_idx, val_idx) in enumerate(k.split(X, y)):\n",
    "        print(f'\\n--- Fold {fold+1} ---')\n",
    "\n",
    "        x_train, y_train = X.iloc[train_idx], y.iloc[train_idx]\n",
    "        x_val, y_val = X.iloc[val_idx], y.iloc[val_idx]\n",
    "        predictor = model\n",
    "        %time predictor.fit(x_train, y_train)\n",
    "\n",
    "        val_preds = predictor.predict(x_val)\n",
    "        val_score = rmse(y_val, val_preds)\n",
    "        scores.append(val_score)\n",
    "        \n",
    "        predictions += predictor.predict(X_test) / n_folds\n",
    "\n",
    "        print(f'--- RMSE: {round(val_score, 6)} ---')\n",
    "\n",
    "        del x_train, y_train, x_val, y_val, val_preds, val_score, predictor\n",
    "        gc.collect()\n",
    "\n",
    "    print('*'*45)\n",
    "    print(f'Mean RMSE: {round(np.mean(scores), 6)}') \n",
    "    return predictions"
   ]
  },
  {
   "cell_type": "code",
   "execution_count": 24,
   "metadata": {
    "scrolled": true
   },
   "outputs": [
    {
     "name": "stdout",
     "output_type": "stream",
     "text": [
      "\n",
      "--- Fold 1 ---\n",
      "CPU times: total: 0 ns\n",
      "Wall time: 13 ms\n",
      "--- RMSE: 0.329351 ---\n",
      "\n",
      "--- Fold 2 ---\n",
      "CPU times: total: 15.6 ms\n",
      "Wall time: 12 ms\n",
      "--- RMSE: 0.332 ---\n",
      "\n",
      "--- Fold 3 ---\n",
      "CPU times: total: 15.6 ms\n",
      "Wall time: 14 ms\n",
      "--- RMSE: 0.772235 ---\n",
      "\n",
      "--- Fold 4 ---\n",
      "CPU times: total: 15.6 ms\n",
      "Wall time: 17 ms\n",
      "--- RMSE: 0.330491 ---\n",
      "\n",
      "--- Fold 5 ---\n",
      "CPU times: total: 15.6 ms\n",
      "Wall time: 16 ms\n",
      "--- RMSE: 0.329339 ---\n",
      "\n",
      "--- Fold 6 ---\n",
      "CPU times: total: 15.6 ms\n",
      "Wall time: 25 ms\n",
      "--- RMSE: 0.337944 ---\n",
      "\n",
      "--- Fold 7 ---\n",
      "CPU times: total: 15.6 ms\n",
      "Wall time: 17 ms\n",
      "--- RMSE: 0.327718 ---\n",
      "*********************************************\n",
      "Mean RMSE: 0.394154\n"
     ]
    }
   ],
   "source": [
    "predictions_6 = CrossValidation(X_prep, y_prep_log, X_test, lr_5, n_folds, seed)"
   ]
  },
  {
   "cell_type": "code",
   "execution_count": 25,
   "metadata": {},
   "outputs": [
    {
     "data": {
      "image/png": "[encoded data removed]",
      "text/plain": [
       "<Figure size 640x480 with 1 Axes>"
      ]
     },
     "metadata": {},
     "output_type": "display_data"
    }
   ],
   "source": [
    "plot_predictions(predictions_6, y_prep_log)"
   ]
  },
  {
   "cell_type": "code",
   "execution_count": 31,
   "metadata": {},
   "outputs": [],
   "source": [
    "df_sub = test.copy()\n",
    "df_sub['MedHouseVal'] = np.exp(predictions_4)\n",
    "df_sub[['id','MedHouseVal']].to_csv('LR_Predictions_4.csv', index=False)"
   ]
  },
  {
   "cell_type": "code",
   "execution_count": 32,
   "metadata": {},
   "outputs": [],
   "source": [
    "df_sub = test.copy()\n",
    "df_sub['MedHouseVal'] = np.exp(predictions_5)\n",
    "df_sub[['id','MedHouseVal']].to_csv('LR_Predictions_5.csv', index=False)"
   ]
  },
  {
   "cell_type": "code",
   "execution_count": 33,
   "metadata": {},
   "outputs": [],
   "source": [
    "df_sub = test.copy()\n",
    "df_sub['MedHouseVal'] = np.exp(predictions_6)\n",
    "df_sub[['id','MedHouseVal']].to_csv('LR_Predictions_6.csv', index=False)"
   ]
  },
  {
   "cell_type": "markdown",
   "metadata": {},
   "source": [
    "#### Score:\n",
    "\n",
    "- **LR_Predictions_6.csv:** 1.35543\n",
    "\n",
    "- **LR_Predictions_5.csv:** 1.36788\n",
    "\n",
    "- **LR_Predictions_4.csv:** 1.36788\n",
    "\n"
   ]
  }
 ],
 "metadata": {
  "kernelspec": {
   "display_name": "Python 3 (ipykernel)",
   "language": "python",
   "name": "python3"
  },
  "language_info": {
   "codemirror_mode": {
    "name": "ipython",
    "version": 3
   },
   "file_extension": ".py",
   "mimetype": "text/x-python",
   "name": "python",
   "nbconvert_exporter": "python",
   "pygments_lexer": "ipython3",
   "version": "3.9.12"
  }
 },
 "nbformat": 4,
 "nbformat_minor": 4
}
