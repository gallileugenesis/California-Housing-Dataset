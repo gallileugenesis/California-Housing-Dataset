{
 "cells": [
  {
   "cell_type": "markdown",
   "metadata": {},
   "source": [
    "# EDA - California Housing Dataset\n",
    "\n",
    "Autor: Gallileu Genesis \n",
    "\n",
    "###### Objetivos:\n",
    "O objetivo da Análise Exploratória de Dados (EDA) é entender a estrutura e os relacionamentos dentro do conjunto de dados e identificar inconsistências, \"sujeiras\", padrões, outliers e outros recursos de interesse. É uma etapa inicial no processo de análise de dados e é uma etapa crucial antes de aplicar qualquer modelo estatístico ou de aprendizado de máquina aos dados.\n",
    "\n",
    "Alguns objetivos específicos da EDA incluem:\n",
    "\n",
    "- Familiarizar-se com os dados e sua estrutura\n",
    "- Identificando dados ausentes ou incorretos\n",
    "- Efetuar eventuais correções nos dados\n",
    "- Detecção de outliers e anomalias\n",
    "- Entendendo a distribuição de cada variável\n",
    "- Identificando relações e padrões entre variáveis\n",
    "- Gerando hipóteses para análise ou modelagem posterior\n",
    "\n",
    "Em geral, o objetivo da EDA é usar métodos visuais e estatísticos para obter insights sobre os dados e identificar áreas para investigação posterior. É um processo iterativo que permite ao analista refinar e melhorar sua compreensão dos dados à medida que novos insights são obtidos.\n"
   ]
  },
  {
   "cell_type": "markdown",
   "metadata": {},
   "source": [
    "## Parte I\n",
    "\n",
    "O objetivo dessa etapa é realizar uma exploração mais visual, a fim de familiarizar-se com os dados e sua estrutura e identificar dados ausentes, duplicados ou incorretos e, por fim, realizar eventuais correções, se for o caso."
   ]
  },
  {
   "cell_type": "code",
   "execution_count": 2,
   "metadata": {
    "execution": {
     "iopub.execute_input": "2023-08-26T23:39:21.928280Z",
     "iopub.status.busy": "2023-08-26T23:39:21.927875Z",
     "iopub.status.idle": "2023-08-26T23:39:23.116567Z",
     "shell.execute_reply": "2023-08-26T23:39:23.115847Z",
     "shell.execute_reply.started": "2023-08-26T23:39:21.928240Z"
    }
   },
   "outputs": [],
   "source": [
    "import pandas as pd\n",
    "from pandas.api.types import is_string_dtype\n",
    "from pandas.api.types import is_numeric_dtype\n",
    "import numpy as np\n",
    "import matplotlib.pyplot as plt\n",
    "import plotly.express as px\n",
    "import seaborn as sns\n",
    "\n",
    "pd.set_option('display.max_columns', None)\n",
    "pd.set_option('display.max_rows', None)\n",
    "pd.set_option('display.float_format', '{:.2f}'.format)\n",
    "\n",
    "from sklearn.datasets import fetch_california_housing"
   ]
  },
  {
   "cell_type": "markdown",
   "metadata": {},
   "source": [
    "### Banco de dados"
   ]
  },
  {
   "cell_type": "markdown",
   "metadata": {},
   "source": [
    "O banco de dados de treinamento possui 37137 amostras (entradas/linhas), 8 colunas (features/recursos), além das colunas id e target."
   ]
  },
  {
   "cell_type": "code",
   "execution_count": 3,
   "metadata": {
    "scrolled": true
   },
   "outputs": [
    {
     "name": "stdout",
     "output_type": "stream",
     "text": [
      "(37137, 10)\n"
     ]
    },
    {
     "data": {
      "text/html": [
       "<div>\n",
       "<style scoped>\n",
       "    .dataframe tbody tr th:only-of-type {\n",
       "        vertical-align: middle;\n",
       "    }\n",
       "\n",
       "    .dataframe tbody tr th {\n",
       "        vertical-align: top;\n",
       "    }\n",
       "\n",
       "    .dataframe thead th {\n",
       "        text-align: right;\n",
       "    }\n",
       "</style>\n",
       "<table border=\"1\" class=\"dataframe\">\n",
       "  <thead>\n",
       "    <tr style=\"text-align: right;\">\n",
       "      <th></th>\n",
       "      <th>id</th>\n",
       "      <th>MedInc</th>\n",
       "      <th>HouseAge</th>\n",
       "      <th>AveRooms</th>\n",
       "      <th>AveBedrms</th>\n",
       "      <th>Population</th>\n",
       "      <th>AveOccup</th>\n",
       "      <th>Latitude</th>\n",
       "      <th>Longitude</th>\n",
       "      <th>MedHouseVal</th>\n",
       "    </tr>\n",
       "  </thead>\n",
       "  <tbody>\n",
       "    <tr>\n",
       "      <th>0</th>\n",
       "      <td>0</td>\n",
       "      <td>2.39</td>\n",
       "      <td>15.00</td>\n",
       "      <td>3.83</td>\n",
       "      <td>1.11</td>\n",
       "      <td>1280.00</td>\n",
       "      <td>2.49</td>\n",
       "      <td>34.60</td>\n",
       "      <td>-120.12</td>\n",
       "      <td>0.98</td>\n",
       "    </tr>\n",
       "    <tr>\n",
       "      <th>1</th>\n",
       "      <td>1</td>\n",
       "      <td>3.72</td>\n",
       "      <td>17.00</td>\n",
       "      <td>6.01</td>\n",
       "      <td>1.05</td>\n",
       "      <td>1504.00</td>\n",
       "      <td>3.81</td>\n",
       "      <td>38.69</td>\n",
       "      <td>-121.22</td>\n",
       "      <td>0.95</td>\n",
       "    </tr>\n",
       "    <tr>\n",
       "      <th>2</th>\n",
       "      <td>2</td>\n",
       "      <td>4.78</td>\n",
       "      <td>27.00</td>\n",
       "      <td>6.54</td>\n",
       "      <td>1.10</td>\n",
       "      <td>1061.00</td>\n",
       "      <td>2.46</td>\n",
       "      <td>34.71</td>\n",
       "      <td>-120.45</td>\n",
       "      <td>1.58</td>\n",
       "    </tr>\n",
       "    <tr>\n",
       "      <th>3</th>\n",
       "      <td>3</td>\n",
       "      <td>2.41</td>\n",
       "      <td>16.00</td>\n",
       "      <td>3.35</td>\n",
       "      <td>0.97</td>\n",
       "      <td>1255.00</td>\n",
       "      <td>2.09</td>\n",
       "      <td>32.66</td>\n",
       "      <td>-117.09</td>\n",
       "      <td>1.34</td>\n",
       "    </tr>\n",
       "    <tr>\n",
       "      <th>4</th>\n",
       "      <td>4</td>\n",
       "      <td>3.75</td>\n",
       "      <td>52.00</td>\n",
       "      <td>4.28</td>\n",
       "      <td>1.07</td>\n",
       "      <td>1793.00</td>\n",
       "      <td>1.60</td>\n",
       "      <td>37.80</td>\n",
       "      <td>-122.41</td>\n",
       "      <td>4.50</td>\n",
       "    </tr>\n",
       "  </tbody>\n",
       "</table>\n",
       "</div>"
      ],
      "text/plain": [
       "   id  MedInc  HouseAge  AveRooms  AveBedrms  Population  AveOccup  Latitude  \\\n",
       "0   0    2.39     15.00      3.83       1.11     1280.00      2.49     34.60   \n",
       "1   1    3.72     17.00      6.01       1.05     1504.00      3.81     38.69   \n",
       "2   2    4.78     27.00      6.54       1.10     1061.00      2.46     34.71   \n",
       "3   3    2.41     16.00      3.35       0.97     1255.00      2.09     32.66   \n",
       "4   4    3.75     52.00      4.28       1.07     1793.00      1.60     37.80   \n",
       "\n",
       "   Longitude  MedHouseVal  \n",
       "0    -120.12         0.98  \n",
       "1    -121.22         0.95  \n",
       "2    -120.45         1.58  \n",
       "3    -117.09         1.34  \n",
       "4    -122.41         4.50  "
      ]
     },
     "execution_count": 3,
     "metadata": {},
     "output_type": "execute_result"
    }
   ],
   "source": [
    "train = pd.read_csv(\"Data/train.csv\")\n",
    "print(train.shape)\n",
    "train.head()"
   ]
  },
  {
   "cell_type": "markdown",
   "metadata": {},
   "source": [
    "O banco de dados de teste possui 24759 amostras (entradas/linhas), 8 colunas (features/recursos), além da coluna id."
   ]
  },
  {
   "cell_type": "code",
   "execution_count": 4,
   "metadata": {},
   "outputs": [
    {
     "name": "stdout",
     "output_type": "stream",
     "text": [
      "(24759, 9)\n"
     ]
    },
    {
     "data": {
      "text/html": [
       "<div>\n",
       "<style scoped>\n",
       "    .dataframe tbody tr th:only-of-type {\n",
       "        vertical-align: middle;\n",
       "    }\n",
       "\n",
       "    .dataframe tbody tr th {\n",
       "        vertical-align: top;\n",
       "    }\n",
       "\n",
       "    .dataframe thead th {\n",
       "        text-align: right;\n",
       "    }\n",
       "</style>\n",
       "<table border=\"1\" class=\"dataframe\">\n",
       "  <thead>\n",
       "    <tr style=\"text-align: right;\">\n",
       "      <th></th>\n",
       "      <th>id</th>\n",
       "      <th>MedInc</th>\n",
       "      <th>HouseAge</th>\n",
       "      <th>AveRooms</th>\n",
       "      <th>AveBedrms</th>\n",
       "      <th>Population</th>\n",
       "      <th>AveOccup</th>\n",
       "      <th>Latitude</th>\n",
       "      <th>Longitude</th>\n",
       "    </tr>\n",
       "  </thead>\n",
       "  <tbody>\n",
       "    <tr>\n",
       "      <th>0</th>\n",
       "      <td>37137</td>\n",
       "      <td>1.71</td>\n",
       "      <td>35.00</td>\n",
       "      <td>4.97</td>\n",
       "      <td>1.10</td>\n",
       "      <td>1318.00</td>\n",
       "      <td>2.84</td>\n",
       "      <td>39.75</td>\n",
       "      <td>-121.85</td>\n",
       "    </tr>\n",
       "    <tr>\n",
       "      <th>1</th>\n",
       "      <td>37138</td>\n",
       "      <td>1.39</td>\n",
       "      <td>22.00</td>\n",
       "      <td>4.19</td>\n",
       "      <td>1.10</td>\n",
       "      <td>2296.00</td>\n",
       "      <td>3.18</td>\n",
       "      <td>33.95</td>\n",
       "      <td>-118.29</td>\n",
       "    </tr>\n",
       "    <tr>\n",
       "      <th>2</th>\n",
       "      <td>37139</td>\n",
       "      <td>7.72</td>\n",
       "      <td>21.00</td>\n",
       "      <td>7.13</td>\n",
       "      <td>0.96</td>\n",
       "      <td>1535.00</td>\n",
       "      <td>2.89</td>\n",
       "      <td>33.61</td>\n",
       "      <td>-117.81</td>\n",
       "    </tr>\n",
       "    <tr>\n",
       "      <th>3</th>\n",
       "      <td>37140</td>\n",
       "      <td>4.68</td>\n",
       "      <td>49.00</td>\n",
       "      <td>4.77</td>\n",
       "      <td>1.05</td>\n",
       "      <td>707.00</td>\n",
       "      <td>1.74</td>\n",
       "      <td>34.17</td>\n",
       "      <td>-118.34</td>\n",
       "    </tr>\n",
       "    <tr>\n",
       "      <th>4</th>\n",
       "      <td>37141</td>\n",
       "      <td>3.13</td>\n",
       "      <td>25.00</td>\n",
       "      <td>3.77</td>\n",
       "      <td>1.08</td>\n",
       "      <td>4716.00</td>\n",
       "      <td>2.00</td>\n",
       "      <td>34.17</td>\n",
       "      <td>-118.29</td>\n",
       "    </tr>\n",
       "  </tbody>\n",
       "</table>\n",
       "</div>"
      ],
      "text/plain": [
       "      id  MedInc  HouseAge  AveRooms  AveBedrms  Population  AveOccup  \\\n",
       "0  37137    1.71     35.00      4.97       1.10     1318.00      2.84   \n",
       "1  37138    1.39     22.00      4.19       1.10     2296.00      3.18   \n",
       "2  37139    7.72     21.00      7.13       0.96     1535.00      2.89   \n",
       "3  37140    4.68     49.00      4.77       1.05      707.00      1.74   \n",
       "4  37141    3.13     25.00      3.77       1.08     4716.00      2.00   \n",
       "\n",
       "   Latitude  Longitude  \n",
       "0     39.75    -121.85  \n",
       "1     33.95    -118.29  \n",
       "2     33.61    -117.81  \n",
       "3     34.17    -118.34  \n",
       "4     34.17    -118.29  "
      ]
     },
     "execution_count": 4,
     "metadata": {},
     "output_type": "execute_result"
    }
   ],
   "source": [
    "test = pd.read_csv(\"Data/test.csv\")\n",
    "print(test.shape)\n",
    "test.head()"
   ]
  },
  {
   "cell_type": "markdown",
   "metadata": {},
   "source": [
    "#### Informação de dados ausentes:\n",
    "\n",
    "Abaixo estão três métodos para analisar a existência de dados ausentes (você só precisa usar um, se quiser). Nenhum dado ausente foi encontrado (tão bom que parece mentira)."
   ]
  },
  {
   "cell_type": "code",
   "execution_count": 6,
   "metadata": {
    "execution": {
     "iopub.execute_input": "2023-08-26T23:39:23.224822Z",
     "iopub.status.busy": "2023-08-26T23:39:23.224562Z",
     "iopub.status.idle": "2023-08-26T23:39:23.272465Z",
     "shell.execute_reply": "2023-08-26T23:39:23.271203Z",
     "shell.execute_reply.started": "2023-08-26T23:39:23.224799Z"
    },
    "scrolled": true
   },
   "outputs": [
    {
     "name": "stdout",
     "output_type": "stream",
     "text": [
      "<class 'pandas.core.frame.DataFrame'>\n",
      "RangeIndex: 37137 entries, 0 to 37136\n",
      "Data columns (total 10 columns):\n",
      " #   Column       Non-Null Count  Dtype  \n",
      "---  ------       --------------  -----  \n",
      " 0   id           37137 non-null  int64  \n",
      " 1   MedInc       37137 non-null  float64\n",
      " 2   HouseAge     37137 non-null  float64\n",
      " 3   AveRooms     37137 non-null  float64\n",
      " 4   AveBedrms    37137 non-null  float64\n",
      " 5   Population   37137 non-null  float64\n",
      " 6   AveOccup     37137 non-null  float64\n",
      " 7   Latitude     37137 non-null  float64\n",
      " 8   Longitude    37137 non-null  float64\n",
      " 9   MedHouseVal  37137 non-null  float64\n",
      "dtypes: float64(9), int64(1)\n",
      "memory usage: 2.8 MB\n"
     ]
    }
   ],
   "source": [
    "# vamos obter um resumo conciso do DataFrame.\n",
    "train.info()"
   ]
  },
  {
   "cell_type": "code",
   "execution_count": 7,
   "metadata": {},
   "outputs": [
    {
     "name": "stdout",
     "output_type": "stream",
     "text": [
      "<class 'pandas.core.frame.DataFrame'>\n",
      "RangeIndex: 24759 entries, 0 to 24758\n",
      "Data columns (total 9 columns):\n",
      " #   Column      Non-Null Count  Dtype  \n",
      "---  ------      --------------  -----  \n",
      " 0   id          24759 non-null  int64  \n",
      " 1   MedInc      24759 non-null  float64\n",
      " 2   HouseAge    24759 non-null  float64\n",
      " 3   AveRooms    24759 non-null  float64\n",
      " 4   AveBedrms   24759 non-null  float64\n",
      " 5   Population  24759 non-null  float64\n",
      " 6   AveOccup    24759 non-null  float64\n",
      " 7   Latitude    24759 non-null  float64\n",
      " 8   Longitude   24759 non-null  float64\n",
      "dtypes: float64(8), int64(1)\n",
      "memory usage: 1.7 MB\n"
     ]
    }
   ],
   "source": [
    "# vamos obter um resumo conciso do DataFrame.\n",
    "test.info()"
   ]
  },
  {
   "cell_type": "markdown",
   "metadata": {},
   "source": [
    "Percebemos que a quantidade de valores não nulos é igual ao total de entradas do dataframe, o que indica que não há dados ausentes. Notamos também que todas as entradas são numéricas do tipo float64, com exceção do id que é do tipo int64, ocupando 2.8 e 1.4 MB de memória (treinamento e teste, respectivamente). "
   ]
  },
  {
   "cell_type": "code",
   "execution_count": 8,
   "metadata": {
    "execution": {
     "iopub.execute_input": "2023-08-26T23:39:23.277762Z",
     "iopub.status.busy": "2023-08-26T23:39:23.277237Z",
     "iopub.status.idle": "2023-08-26T23:39:23.307078Z",
     "shell.execute_reply": "2023-08-26T23:39:23.305827Z",
     "shell.execute_reply.started": "2023-08-26T23:39:23.277730Z"
    },
    "scrolled": true
   },
   "outputs": [
    {
     "data": {
      "text/plain": [
       "id             0\n",
       "MedInc         0\n",
       "HouseAge       0\n",
       "AveRooms       0\n",
       "AveBedrms      0\n",
       "Population     0\n",
       "AveOccup       0\n",
       "Latitude       0\n",
       "Longitude      0\n",
       "MedHouseVal    0\n",
       "dtype: int64"
      ]
     },
     "execution_count": 8,
     "metadata": {},
     "output_type": "execute_result"
    }
   ],
   "source": [
    "# O método a seguir mostra de forma mais direta a quantidade de dados ausente em cada coluna\n",
    "train.isnull().sum()"
   ]
  },
  {
   "cell_type": "code",
   "execution_count": 10,
   "metadata": {},
   "outputs": [
    {
     "data": {
      "text/plain": [
       "id            0\n",
       "MedInc        0\n",
       "HouseAge      0\n",
       "AveRooms      0\n",
       "AveBedrms     0\n",
       "Population    0\n",
       "AveOccup      0\n",
       "Latitude      0\n",
       "Longitude     0\n",
       "dtype: int64"
      ]
     },
     "execution_count": 10,
     "metadata": {},
     "output_type": "execute_result"
    }
   ],
   "source": [
    "test.isnull().sum()"
   ]
  },
  {
   "cell_type": "markdown",
   "metadata": {},
   "source": [
    "#### Avaliar dados duplicados\n",
    "\n",
    "Não temos dados duplicados."
   ]
  },
  {
   "cell_type": "code",
   "execution_count": 11,
   "metadata": {
    "execution": {
     "iopub.execute_input": "2023-08-26T23:39:23.984575Z",
     "iopub.status.busy": "2023-08-26T23:39:23.984273Z",
     "iopub.status.idle": "2023-08-26T23:39:24.012204Z",
     "shell.execute_reply": "2023-08-26T23:39:24.011298Z",
     "shell.execute_reply.started": "2023-08-26T23:39:23.984548Z"
    }
   },
   "outputs": [
    {
     "name": "stdout",
     "output_type": "stream",
     "text": [
      "(0, 10)\n"
     ]
    },
    {
     "data": {
      "text/html": [
       "<div>\n",
       "<style scoped>\n",
       "    .dataframe tbody tr th:only-of-type {\n",
       "        vertical-align: middle;\n",
       "    }\n",
       "\n",
       "    .dataframe tbody tr th {\n",
       "        vertical-align: top;\n",
       "    }\n",
       "\n",
       "    .dataframe thead th {\n",
       "        text-align: right;\n",
       "    }\n",
       "</style>\n",
       "<table border=\"1\" class=\"dataframe\">\n",
       "  <thead>\n",
       "    <tr style=\"text-align: right;\">\n",
       "      <th></th>\n",
       "      <th>id</th>\n",
       "      <th>MedInc</th>\n",
       "      <th>HouseAge</th>\n",
       "      <th>AveRooms</th>\n",
       "      <th>AveBedrms</th>\n",
       "      <th>Population</th>\n",
       "      <th>AveOccup</th>\n",
       "      <th>Latitude</th>\n",
       "      <th>Longitude</th>\n",
       "      <th>MedHouseVal</th>\n",
       "    </tr>\n",
       "  </thead>\n",
       "  <tbody>\n",
       "  </tbody>\n",
       "</table>\n",
       "</div>"
      ],
      "text/plain": [
       "Empty DataFrame\n",
       "Columns: [id, MedInc, HouseAge, AveRooms, AveBedrms, Population, AveOccup, Latitude, Longitude, MedHouseVal]\n",
       "Index: []"
      ]
     },
     "execution_count": 11,
     "metadata": {},
     "output_type": "execute_result"
    }
   ],
   "source": [
    "# Linhas inteiramente duplicadas\n",
    "train_duplicated = train[train.duplicated(keep = False)]\n",
    "print(train_duplicated.shape)\n",
    "train_duplicated.head()"
   ]
  },
  {
   "cell_type": "code",
   "execution_count": 12,
   "metadata": {},
   "outputs": [
    {
     "name": "stdout",
     "output_type": "stream",
     "text": [
      "(0, 9)\n"
     ]
    },
    {
     "data": {
      "text/html": [
       "<div>\n",
       "<style scoped>\n",
       "    .dataframe tbody tr th:only-of-type {\n",
       "        vertical-align: middle;\n",
       "    }\n",
       "\n",
       "    .dataframe tbody tr th {\n",
       "        vertical-align: top;\n",
       "    }\n",
       "\n",
       "    .dataframe thead th {\n",
       "        text-align: right;\n",
       "    }\n",
       "</style>\n",
       "<table border=\"1\" class=\"dataframe\">\n",
       "  <thead>\n",
       "    <tr style=\"text-align: right;\">\n",
       "      <th></th>\n",
       "      <th>id</th>\n",
       "      <th>MedInc</th>\n",
       "      <th>HouseAge</th>\n",
       "      <th>AveRooms</th>\n",
       "      <th>AveBedrms</th>\n",
       "      <th>Population</th>\n",
       "      <th>AveOccup</th>\n",
       "      <th>Latitude</th>\n",
       "      <th>Longitude</th>\n",
       "    </tr>\n",
       "  </thead>\n",
       "  <tbody>\n",
       "  </tbody>\n",
       "</table>\n",
       "</div>"
      ],
      "text/plain": [
       "Empty DataFrame\n",
       "Columns: [id, MedInc, HouseAge, AveRooms, AveBedrms, Population, AveOccup, Latitude, Longitude]\n",
       "Index: []"
      ]
     },
     "execution_count": 12,
     "metadata": {},
     "output_type": "execute_result"
    }
   ],
   "source": [
    "test_duplicated = test[test.duplicated(keep = False)]\n",
    "print(test_duplicated.shape)\n",
    "test_duplicated.head()"
   ]
  },
  {
   "cell_type": "markdown",
   "metadata": {},
   "source": [
    "#### Descrição estatística básica"
   ]
  },
  {
   "cell_type": "code",
   "execution_count": 13,
   "metadata": {
    "execution": {
     "iopub.execute_input": "2023-08-26T23:39:24.328587Z",
     "iopub.status.busy": "2023-08-26T23:39:24.328298Z",
     "iopub.status.idle": "2023-08-26T23:39:24.357054Z",
     "shell.execute_reply": "2023-08-26T23:39:24.355912Z",
     "shell.execute_reply.started": "2023-08-26T23:39:24.328562Z"
    }
   },
   "outputs": [
    {
     "data": {
      "text/html": [
       "<div>\n",
       "<style scoped>\n",
       "    .dataframe tbody tr th:only-of-type {\n",
       "        vertical-align: middle;\n",
       "    }\n",
       "\n",
       "    .dataframe tbody tr th {\n",
       "        vertical-align: top;\n",
       "    }\n",
       "\n",
       "    .dataframe thead th {\n",
       "        text-align: right;\n",
       "    }\n",
       "</style>\n",
       "<table border=\"1\" class=\"dataframe\">\n",
       "  <thead>\n",
       "    <tr style=\"text-align: right;\">\n",
       "      <th></th>\n",
       "      <th>id</th>\n",
       "      <th>MedInc</th>\n",
       "      <th>HouseAge</th>\n",
       "      <th>AveRooms</th>\n",
       "      <th>AveBedrms</th>\n",
       "      <th>Population</th>\n",
       "      <th>AveOccup</th>\n",
       "      <th>Latitude</th>\n",
       "      <th>Longitude</th>\n",
       "      <th>MedHouseVal</th>\n",
       "    </tr>\n",
       "  </thead>\n",
       "  <tbody>\n",
       "    <tr>\n",
       "      <th>count</th>\n",
       "      <td>37137.00</td>\n",
       "      <td>37137.00</td>\n",
       "      <td>37137.00</td>\n",
       "      <td>37137.00</td>\n",
       "      <td>37137.00</td>\n",
       "      <td>37137.00</td>\n",
       "      <td>37137.00</td>\n",
       "      <td>37137.00</td>\n",
       "      <td>37137.00</td>\n",
       "      <td>37137.00</td>\n",
       "    </tr>\n",
       "    <tr>\n",
       "      <th>mean</th>\n",
       "      <td>18568.00</td>\n",
       "      <td>3.85</td>\n",
       "      <td>26.06</td>\n",
       "      <td>5.16</td>\n",
       "      <td>1.06</td>\n",
       "      <td>1660.78</td>\n",
       "      <td>2.83</td>\n",
       "      <td>35.57</td>\n",
       "      <td>-119.55</td>\n",
       "      <td>2.08</td>\n",
       "    </tr>\n",
       "    <tr>\n",
       "      <th>std</th>\n",
       "      <td>10720.67</td>\n",
       "      <td>1.80</td>\n",
       "      <td>12.16</td>\n",
       "      <td>1.21</td>\n",
       "      <td>0.10</td>\n",
       "      <td>1302.47</td>\n",
       "      <td>2.70</td>\n",
       "      <td>2.08</td>\n",
       "      <td>1.97</td>\n",
       "      <td>1.16</td>\n",
       "    </tr>\n",
       "    <tr>\n",
       "      <th>min</th>\n",
       "      <td>0.00</td>\n",
       "      <td>0.50</td>\n",
       "      <td>2.00</td>\n",
       "      <td>0.85</td>\n",
       "      <td>0.50</td>\n",
       "      <td>3.00</td>\n",
       "      <td>0.95</td>\n",
       "      <td>32.55</td>\n",
       "      <td>-124.35</td>\n",
       "      <td>0.15</td>\n",
       "    </tr>\n",
       "    <tr>\n",
       "      <th>25%</th>\n",
       "      <td>9284.00</td>\n",
       "      <td>2.60</td>\n",
       "      <td>17.00</td>\n",
       "      <td>4.36</td>\n",
       "      <td>1.02</td>\n",
       "      <td>952.00</td>\n",
       "      <td>2.39</td>\n",
       "      <td>33.93</td>\n",
       "      <td>-121.80</td>\n",
       "      <td>1.21</td>\n",
       "    </tr>\n",
       "    <tr>\n",
       "      <th>50%</th>\n",
       "      <td>18568.00</td>\n",
       "      <td>3.52</td>\n",
       "      <td>25.00</td>\n",
       "      <td>5.07</td>\n",
       "      <td>1.05</td>\n",
       "      <td>1383.00</td>\n",
       "      <td>2.74</td>\n",
       "      <td>34.19</td>\n",
       "      <td>-118.45</td>\n",
       "      <td>1.81</td>\n",
       "    </tr>\n",
       "    <tr>\n",
       "      <th>75%</th>\n",
       "      <td>27852.00</td>\n",
       "      <td>4.70</td>\n",
       "      <td>35.00</td>\n",
       "      <td>5.86</td>\n",
       "      <td>1.09</td>\n",
       "      <td>1856.00</td>\n",
       "      <td>3.13</td>\n",
       "      <td>37.70</td>\n",
       "      <td>-118.02</td>\n",
       "      <td>2.66</td>\n",
       "    </tr>\n",
       "    <tr>\n",
       "      <th>max</th>\n",
       "      <td>37136.00</td>\n",
       "      <td>15.00</td>\n",
       "      <td>52.00</td>\n",
       "      <td>28.84</td>\n",
       "      <td>5.87</td>\n",
       "      <td>35682.00</td>\n",
       "      <td>502.99</td>\n",
       "      <td>41.95</td>\n",
       "      <td>-114.55</td>\n",
       "      <td>5.00</td>\n",
       "    </tr>\n",
       "  </tbody>\n",
       "</table>\n",
       "</div>"
      ],
      "text/plain": [
       "            id   MedInc  HouseAge  AveRooms  AveBedrms  Population  AveOccup  \\\n",
       "count 37137.00 37137.00  37137.00  37137.00   37137.00    37137.00  37137.00   \n",
       "mean  18568.00     3.85     26.06      5.16       1.06     1660.78      2.83   \n",
       "std   10720.67     1.80     12.16      1.21       0.10     1302.47      2.70   \n",
       "min       0.00     0.50      2.00      0.85       0.50        3.00      0.95   \n",
       "25%    9284.00     2.60     17.00      4.36       1.02      952.00      2.39   \n",
       "50%   18568.00     3.52     25.00      5.07       1.05     1383.00      2.74   \n",
       "75%   27852.00     4.70     35.00      5.86       1.09     1856.00      3.13   \n",
       "max   37136.00    15.00     52.00     28.84       5.87    35682.00    502.99   \n",
       "\n",
       "       Latitude  Longitude  MedHouseVal  \n",
       "count  37137.00   37137.00     37137.00  \n",
       "mean      35.57    -119.55         2.08  \n",
       "std        2.08       1.97         1.16  \n",
       "min       32.55    -124.35         0.15  \n",
       "25%       33.93    -121.80         1.21  \n",
       "50%       34.19    -118.45         1.81  \n",
       "75%       37.70    -118.02         2.66  \n",
       "max       41.95    -114.55         5.00  "
      ]
     },
     "execution_count": 13,
     "metadata": {},
     "output_type": "execute_result"
    }
   ],
   "source": [
    "train.describe()"
   ]
  },
  {
   "cell_type": "markdown",
   "metadata": {},
   "source": [
    "#### Comentários:\n",
    "**MedInc (Renda Média):**\n",
    "- A média da renda média é aproximadamente 3.85, com um desvio padrão de 1.80. Isso sugere que a maioria das áreas tem renda média próxima a esse valor médio.\n",
    "- renda mínima é 0.50, enquanto a renda máxima é 15.00. Essa variação indica que existem áreas com renda consideravelmente baixa e alta.\n",
    "- O percentil 25 (primeiro quartil) é 2.60, o percentil 50 (mediana) é 3.52 e o percentil 75 (terceiro quartil) é 4.70. Isso sugere que a maioria das áreas tem renda média entre 2.60 e 4.70.\n",
    " \n",
    "\n",
    "**HouseAge (Idade das Casas):**\n",
    "- A idade média das casas é cerca de 26.06 anos, com um desvio padrão de 12.16 anos. Isso sugere uma variabilidade nas idades das casas entre diferentes áreas.\n",
    "- A idade mínima das casas é 2 anos, enquanto a idade máxima é 52 anos.\n",
    "- O percentil 25 (primeiro quartil) é 17 anos, o percentil 50 (mediana) é 25 anos e o percentil 75 (terceiro quartil) é 35 anos. Isso sugere que a maioria das casas nas áreas tem idades entre 17 e 35 anos.\n",
    "\n",
    "**AveRooms (Média de Quartos por Casa):**\n",
    "- A média de quartos por casa é aproximadamente 5.16, com um desvio padrão de 1.21. Isso sugere uma relativa consistência na média de quartos entre diferentes áreas.\n",
    "- O número mínimo médio de quartos por casa é 0.85, enquanto o número máximo é 28.84, que pode ser um valor atípico.\n",
    "- O percentil 25 (primeiro quartil) é 4.36, o percentil 50 (mediana) é 5.07 e o percentil 75 (terceiro quartil) é 5.86. Isso indica que a maioria das casas nas áreas tem entre 4.36 e 5.86 quartos em média.\n",
    "\n",
    "**AveBedrms (Média de Quartos de Dormir por Casa):**\n",
    "- A média de quartos de dormir por casa é aproximadamente 1.06, com um desvio padrão de 0.10. Isso sugere uma consistência razoável nessa média entre diferentes áreas.\n",
    "- O número mínimo médio de quartos de dormir por casa é 0.50, enquanto o número máximo é 5.87.\n",
    "- O percentil 25 (primeiro quartil) é 1.02, o percentil 50 (mediana) é 1.05 e o percentil 75 (terceiro quartil) é 1.09. Isso indica que a maioria das casas nas áreas tem entre 1.02 e 1.09 quartos de dormir em média.\n",
    "\n",
    "**Population (População):**\n",
    "- A população média é cerca de 1660.78, com um desvio padrão de 1302.47. Isso sugere uma variação considerável nas populações entre diferentes áreas.\n",
    "- A população mínima é 3, enquanto a população máxima é 35682.\n",
    "- O percentil 25 (primeiro quartil) é 952, o percentil 50 (mediana) é 1383 e o percentil 75 (terceiro quartil) é 1856. Isso sugere que a maioria das áreas tem populações abaixo de 1856.\n",
    "\n",
    "**AveOccup (Média de Ocupantes por Casa):**\n",
    "- A média de ocupantes por casa é cerca de 2.83, com um desvio padrão de 2.70. Isso sugere uma variação razoável na média de ocupantes entre diferentes áreas.\n",
    "- O número mínimo médio de ocupantes por casa é 0.95, enquanto o número máximo é 502.99, que parece ser um valor atípico.\n",
    "- O percentil 25 (primeiro quartil) é 2.39, o percentil 50 (mediana) é 2.74 e o percentil 75 (terceiro quartil) é 3.13. Isso indica que a maioria das casas nas áreas tem entre 2.39 e 3.13 ocupantes em média.\n",
    "\n",
    "**Latitude e Longitude:**\n",
    "- As coordenadas de latitude têm média em torno de 35.57 e desvio padrão de 2.08. As coordenadas de longitude têm média próxima de -119.55 e desvio padrão de 1.97. Isso sugere alguma variação nas localizações das áreas.\n",
    "- Os valores mínimos e máximos de latitude e longitude refletem a diversidade das áreas cobertas pelo conjunto de dados.\n",
    "\n",
    "**MedHouseVal (Valor Médio das Casas):**\n",
    "- A média do valor médio das casas é cerca de 2.08, com um desvio padrão de 1.16. Isso sugere que os valores do valor médio das casas estão em torno dessa média, com alguma variação.\n",
    "- O valor mínimo do valor médio das casas é 0.15, enquanto o valor máximo é 5.00.\n",
    "- O percentil 25 (primeiro quartil) é 1.21, o percentil 50 (mediana) é 1.81 e o percentil 75 (terceiro quartil) é 2.66. Isso sugere que a maioria das áreas tem valores do valor médio das casas entre 1.21 e 2.66."
   ]
  },
  {
   "cell_type": "markdown",
   "metadata": {},
   "source": [
    "## Parte II\n",
    "\n",
    "Essa etapa tem, além dos mesmos objetivos da Parte I, apresentar agora uma exploração visual básica das variáveis. "
   ]
  },
  {
   "cell_type": "code",
   "execution_count": null,
   "metadata": {
    "execution": {
     "iopub.execute_input": "2023-08-26T23:39:24.428541Z",
     "iopub.status.busy": "2023-08-26T23:39:24.428116Z",
     "iopub.status.idle": "2023-08-26T23:39:24.440506Z",
     "shell.execute_reply": "2023-08-26T23:39:24.439114Z",
     "shell.execute_reply.started": "2023-08-26T23:39:24.428505Z"
    }
   },
   "outputs": [],
   "source": [
    "def plot_numerical(df):\n",
    "    \"\"\"\n",
    "    Plota gráficos de dispersão para variáveis numéricas.\n",
    "    \n",
    "    Parâmetros:\n",
    "    df (pd.DataFrame): O DataFrame contendo os dados.\n",
    "    \n",
    "    Retorna:\n",
    "    None (exibe os gráficos)\n",
    "    \"\"\"\n",
    "    numerical_cols = df.select_dtypes(include=[np.number]).columns\n",
    "    for col in numerical_cols:\n",
    "        print(30 * '-', f'{col}', 30 * '-')\n",
    "        plt.scatter(df[col].index, df[col])\n",
    "        plt.ylabel(col, fontsize=10)\n",
    "        plt.yticks(fontsize=10, rotation=0)\n",
    "        plt.xticks(fontsize=10, rotation=0)\n",
    "        plt.show()"
   ]
  },
  {
   "cell_type": "markdown",
   "metadata": {},
   "source": [
    "#### Alguns comentários:\n",
    "\n",
    " "
   ]
  },
  {
   "cell_type": "code",
   "execution_count": null,
   "metadata": {
    "execution": {
     "iopub.execute_input": "2023-08-26T23:39:25.922797Z",
     "iopub.status.busy": "2023-08-26T23:39:25.922033Z",
     "iopub.status.idle": "2023-08-26T23:39:26.737543Z",
     "shell.execute_reply": "2023-08-26T23:39:26.736284Z",
     "shell.execute_reply.started": "2023-08-26T23:39:25.922756Z"
    },
    "scrolled": true
   },
   "outputs": [],
   "source": [
    "plot_numerical(df)"
   ]
  },
  {
   "cell_type": "markdown",
   "metadata": {},
   "source": [
    "## Parte III\n",
    "\n",
    "Vamos, nessa etapa, fazer uma exploração mais aprofundada dos dados, buscando identificar padrões e insight, a partir do interrelacionamento das variáveis e suas distribuições. \n"
   ]
  },
  {
   "cell_type": "code",
   "execution_count": null,
   "metadata": {
    "execution": {
     "iopub.execute_input": "2023-08-26T23:39:26.739271Z",
     "iopub.status.busy": "2023-08-26T23:39:26.738960Z",
     "iopub.status.idle": "2023-08-26T23:39:26.752743Z",
     "shell.execute_reply": "2023-08-26T23:39:26.752115Z",
     "shell.execute_reply.started": "2023-08-26T23:39:26.739245Z"
    }
   },
   "outputs": [],
   "source": [
    "\n",
    "def plot_histogram(df, numerical_col, target):\n",
    "    \"\"\"\n",
    "    Plota um histograma com ou sem estimativa de densidade de kernel para variáveis numéricas em relação a uma variável-alvo.\n",
    "    \n",
    "    Parâmetros:\n",
    "    df (pd.DataFrame): O DataFrame contendo os dados.\n",
    "    numerical_col (str): O nome da coluna numérica a ser plotada.\n",
    "    target (str): O nome da coluna alvo (geralmente categórica) para distinguir as distribuições.\n",
    "    \n",
    "    Retorna:\n",
    "    None (exibe o gráfico)\n",
    "    \"\"\"\n",
    "    plt.figure(figsize=(8, 4))\n",
    "    sns.histplot(data=df, x=numerical_col, hue=target, kde=True)\n",
    "    plt.show()\n",
    "\n",
    "def plot_boxplot(df, numerical_col='numerical_col', target='target'):\n",
    "    \"\"\"\n",
    "    Plota um gráfico de boxplot para visualizar a distribuição de variáveis numéricas em relação a uma variável-alvo.\n",
    "    \n",
    "    Parâmetros:\n",
    "    df (pd.DataFrame): O DataFrame contendo os dados.\n",
    "    numerical_col (str): O nome da coluna numérica a ser plotada.\n",
    "    target (str): O nome da coluna alvo (geralmente categórica) para distinguir as categorias.\n",
    "    \n",
    "    Retorna:\n",
    "    None (exibe o gráfico)\n",
    "    \"\"\"\n",
    "    plt.figure(figsize=(8, 4))\n",
    "    sns.boxplot(data=df, x=target, y=numerical_col)\n",
    "    plt.show()\n",
    "    \n",
    "def plot_violin(df, numerical_col, target):\n",
    "    \"\"\"\n",
    "    Cria um gráfico de violino para visualizar a distribuição de uma variável numérica\n",
    "    em diferentes categorias de uma variável categórica.\n",
    "\n",
    "    Parâmetros:\n",
    "    df (pandas DataFrame): O DataFrame contendo os dados.\n",
    "    coluna_numerica (str): O nome da coluna numérica para plotar no eixo y.\n",
    "    alvo (str): O nome da coluna categórica para plotar no eixo x.\n",
    "\n",
    "    Retorna:\n",
    "    None\n",
    "    \"\"\"\n",
    "    import matplotlib.pyplot as plt\n",
    "    import seaborn as sns\n",
    "\n",
    "    plt.figure(figsize=(8, 4))\n",
    "    sns.violinplot(x=target, y=numerical_col, data=df)\n",
    "    plt.show()\n",
    "\n",
    "\n",
    "def plot_grouped_boxplot(df, categorical_col, numerical_col, target):\n",
    "    \"\"\"\n",
    "    Plota um gráfico de boxplot agrupado para comparar a distribuição de variáveis numéricas entre categorias de uma variável categórica.\n",
    "    \n",
    "    Parâmetros:\n",
    "    df (pd.DataFrame): O DataFrame contendo os dados.\n",
    "    categorical_feature (str): O nome da coluna categórica usada para agrupar os dados.\n",
    "    numerical_feature (str): O nome da coluna numérica a ser plotada no eixo y.\n",
    "    target (str): O nome da coluna alvo (geralmente categórica) para distinguir as categorias dentro de cada grupo categórico.\n",
    "    \n",
    "    Retorna:\n",
    "    None (exibe o gráfico)\n",
    "    \"\"\"\n",
    "    plt.figure(figsize=(8, 4))\n",
    "    sns.boxplot(data=df, x=categorical_col, y=numerical_col, hue=target)\n",
    "    plt.xticks(rotation=60)\n",
    "    plt.show()\n",
    "    \n",
    "import seaborn as sns\n",
    "import matplotlib.pyplot as plt\n",
    "\n",
    "def plot_scatterplot(x, y, df, target, log=False, order=False):\n",
    "    \"\"\"\n",
    "    Gera um gráfico de dispersão usando Seaborn.\n",
    "\n",
    "    Parâmetros:\n",
    "    x (str ou None): Nome da coluna para o eixo x. Se None, o índice do DataFrame será usado.\n",
    "    y (str): Nome da coluna para o eixo y.\n",
    "    df (DataFrame): O DataFrame de entrada contendo os dados.\n",
    "    target (str): Nome da coluna para a variável de matiz (hue), usada para colorir os pontos.\n",
    "    log (bool): Se True, usa escala logarítmica para ambos os eixos x e y.\n",
    "    order (bool): Se True, ordena o DataFrame pela coluna y antes de plotar.\n",
    "\n",
    "    Retorna:\n",
    "    None (exibe o gráfico).\n",
    "    \"\"\"\n",
    "    if order:\n",
    "        df = df.sort_values(by=y)\n",
    "        df.reset_index(inplace=True, drop=True)\n",
    "\n",
    "    if x is None:\n",
    "        x = df.index\n",
    "\n",
    "    plt.figure(figsize=(8, 4))\n",
    "    sns.scatterplot(x=x, y=y, data=df, hue=target)\n",
    "    if log:\n",
    "        plt.xscale('log')\n",
    "        plt.yscale('log')\n",
    "    plt.show()\n"
   ]
  },
  {
   "cell_type": "markdown",
   "metadata": {},
   "source": [
    "#### Comentários:\n"
   ]
  },
  {
   "cell_type": "code",
   "execution_count": null,
   "metadata": {
    "execution": {
     "iopub.execute_input": "2023-08-26T23:39:28.195683Z",
     "iopub.status.busy": "2023-08-26T23:39:28.195322Z",
     "iopub.status.idle": "2023-08-26T23:39:45.854515Z",
     "shell.execute_reply": "2023-08-26T23:39:45.853349Z",
     "shell.execute_reply.started": "2023-08-26T23:39:28.195653Z"
    },
    "scrolled": true
   },
   "outputs": [],
   "source": [
    "numerical_features = df.select_dtypes(include='number').columns.tolist()\n",
    "for col in numerical_features:\n",
    "    plot_histogram(df, col, 'target')"
   ]
  },
  {
   "cell_type": "markdown",
   "metadata": {},
   "source": [
    "**Comentários:**\n",
    " \n"
   ]
  },
  {
   "cell_type": "code",
   "execution_count": null,
   "metadata": {
    "execution": {
     "iopub.execute_input": "2023-08-26T23:39:45.856464Z",
     "iopub.status.busy": "2023-08-26T23:39:45.856083Z",
     "iopub.status.idle": "2023-08-26T23:39:46.372578Z",
     "shell.execute_reply": "2023-08-26T23:39:46.371695Z",
     "shell.execute_reply.started": "2023-08-26T23:39:45.856432Z"
    },
    "scrolled": true
   },
   "outputs": [],
   "source": [
    "for col in numerical_features:\n",
    "    plot_boxplot(df, 'status_do_caso', col)"
   ]
  },
  {
   "cell_type": "markdown",
   "metadata": {},
   "source": [
    "**Comentários:**"
   ]
  },
  {
   "cell_type": "code",
   "execution_count": null,
   "metadata": {
    "execution": {
     "iopub.execute_input": "2023-08-26T23:39:46.373938Z",
     "iopub.status.busy": "2023-08-26T23:39:46.373620Z",
     "iopub.status.idle": "2023-08-26T23:39:47.254666Z",
     "shell.execute_reply": "2023-08-26T23:39:47.253752Z",
     "shell.execute_reply.started": "2023-08-26T23:39:46.373911Z"
    }
   },
   "outputs": [],
   "source": [
    "for col in numerical_features:\n",
    "    plot_violin(df, col, 'status_do_caso')"
   ]
  },
  {
   "cell_type": "code",
   "execution_count": null,
   "metadata": {
    "execution": {
     "iopub.execute_input": "2023-08-26T23:39:47.256097Z",
     "iopub.status.busy": "2023-08-26T23:39:47.255789Z",
     "iopub.status.idle": "2023-08-26T23:39:57.279997Z",
     "shell.execute_reply": "2023-08-26T23:39:57.279325Z",
     "shell.execute_reply.started": "2023-08-26T23:39:47.256067Z"
    },
    "scrolled": true
   },
   "outputs": [],
   "source": [
    "for categorical_col in categorical_features:\n",
    "    for numerical_col in numerical_features:\n",
    "        plot_grouped_boxplot(df, categorical_col, numerical_col, 'status_do_caso')"
   ]
  },
  {
   "cell_type": "code",
   "execution_count": null,
   "metadata": {
    "execution": {
     "iopub.execute_input": "2023-08-26T23:40:03.103375Z",
     "iopub.status.busy": "2023-08-26T23:40:03.102960Z",
     "iopub.status.idle": "2023-08-26T23:40:17.986128Z",
     "shell.execute_reply": "2023-08-26T23:40:17.985349Z",
     "shell.execute_reply.started": "2023-08-26T23:40:03.103352Z"
    }
   },
   "outputs": [],
   "source": [
    "plt.figure(figsize=(16, 4))\n",
    "\n",
    "sns.pairplot(data=df[numerical_features + ['status_do_caso']], hue='status_do_caso')\n",
    "plt.show()"
   ]
  },
  {
   "cell_type": "code",
   "execution_count": null,
   "metadata": {
    "execution": {
     "iopub.execute_input": "2023-08-26T23:40:17.988011Z",
     "iopub.status.busy": "2023-08-26T23:40:17.987185Z",
     "iopub.status.idle": "2023-08-26T23:40:18.222809Z",
     "shell.execute_reply": "2023-08-26T23:40:18.221366Z",
     "shell.execute_reply.started": "2023-08-26T23:40:17.987969Z"
    }
   },
   "outputs": [],
   "source": [
    "sns.heatmap(df[numerical_features].corr(), annot=True, cmap='coolwarm')\n",
    "plt.show()"
   ]
  },
  {
   "cell_type": "markdown",
   "metadata": {},
   "source": [
    "**Testes de hipóteses:**\n",
    "- Para determinar se a diferença na dispersão (variância) é estatisticamente significante, realize uma das seguintes ações:\n",
    " - Use um teste para [2 variâncias](https://support.minitab.com/pt-br/minitab/21/help-and-how-to/statistics/basic-statistics/how-to/2-variances/before-you-start/overview/) se você tiver apenas dois grupos.\n",
    " - Use um teste de [igualdade de variâncias](https://support.minitab.com/pt-br/minitab/21/help-and-how-to/statistical-modeling/anova/how-to/test-for-equal-variances/before-you-start/overview/) caso tenha três ou mais grupos."
   ]
  },
  {
   "cell_type": "code",
   "execution_count": null,
   "metadata": {},
   "outputs": [],
   "source": []
  }
 ],
 "metadata": {
  "kernelspec": {
   "display_name": "Python 3 (ipykernel)",
   "language": "python",
   "name": "python3"
  },
  "language_info": {
   "codemirror_mode": {
    "name": "ipython",
    "version": 3
   },
   "file_extension": ".py",
   "mimetype": "text/x-python",
   "name": "python",
   "nbconvert_exporter": "python",
   "pygments_lexer": "ipython3",
   "version": "3.9.12"
  }
 },
 "nbformat": 4,
 "nbformat_minor": 4
}
